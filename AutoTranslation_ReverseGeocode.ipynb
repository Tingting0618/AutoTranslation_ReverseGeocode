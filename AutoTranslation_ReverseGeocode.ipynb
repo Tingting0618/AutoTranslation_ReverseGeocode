{
 "cells": [
  {
   "cell_type": "code",
   "execution_count": 1,
   "id": "oriented-national",
   "metadata": {},
   "outputs": [],
   "source": [
    "# pip install googletrans==4.0.0rc1"
   ]
  },
  {
   "cell_type": "code",
   "execution_count": 2,
   "id": "digital-polyester",
   "metadata": {},
   "outputs": [],
   "source": [
    "from googletrans import Translator\n",
    "import pandas as pd\n",
    "import time"
   ]
  },
  {
   "cell_type": "code",
   "execution_count": 3,
   "id": "civic-accessory",
   "metadata": {},
   "outputs": [
    {
     "data": {
      "text/html": [
       "<div>\n",
       "<style scoped>\n",
       "    .dataframe tbody tr th:only-of-type {\n",
       "        vertical-align: middle;\n",
       "    }\n",
       "\n",
       "    .dataframe tbody tr th {\n",
       "        vertical-align: top;\n",
       "    }\n",
       "\n",
       "    .dataframe thead th {\n",
       "        text-align: right;\n",
       "    }\n",
       "</style>\n",
       "<table border=\"1\" class=\"dataframe\">\n",
       "  <thead>\n",
       "    <tr style=\"text-align: right;\">\n",
       "      <th></th>\n",
       "      <th>酒店中文名称 Property Name in Chinese</th>\n",
       "      <th>酒店中文地址 Address in Chinese</th>\n",
       "      <th>Longitude</th>\n",
       "      <th>Latitude</th>\n",
       "    </tr>\n",
       "  </thead>\n",
       "  <tbody>\n",
       "    <tr>\n",
       "      <th>0</th>\n",
       "      <td>桔子水晶太原南站晋阳街酒店</td>\n",
       "      <td>山西省太原市小店区荣军北街99号</td>\n",
       "      <td>37.78401</td>\n",
       "      <td>112.57727</td>\n",
       "    </tr>\n",
       "    <tr>\n",
       "      <th>1</th>\n",
       "      <td>桔子临汾五洲国际广场酒店</td>\n",
       "      <td>山西省临汾市开发区河汾路8号</td>\n",
       "      <td>36.10251</td>\n",
       "      <td>111.51095</td>\n",
       "    </tr>\n",
       "  </tbody>\n",
       "</table>\n",
       "</div>"
      ],
      "text/plain": [
       "  酒店中文名称 Property Name in Chinese 酒店中文地址 Address in Chinese  Longitude  \\\n",
       "0                   桔子水晶太原南站晋阳街酒店          山西省太原市小店区荣军北街99号   37.78401   \n",
       "1                    桔子临汾五洲国际广场酒店            山西省临汾市开发区河汾路8号   36.10251   \n",
       "\n",
       "    Latitude  \n",
       "0  112.57727  \n",
       "1  111.51095  "
      ]
     },
     "execution_count": 3,
     "metadata": {},
     "output_type": "execute_result"
    }
   ],
   "source": [
    "sample = pd.read_csv('sample.csv')\n",
    "sample.head(2)"
   ]
  },
  {
   "cell_type": "code",
   "execution_count": 4,
   "id": "accepting-reviewer",
   "metadata": {},
   "outputs": [
    {
     "data": {
      "text/plain": [
       "Index(['酒店中文名称 Property Name in Chinese', '酒店中文地址 Address in Chinese',\n",
       "       'Longitude', 'Latitude'],\n",
       "      dtype='object')"
      ]
     },
     "execution_count": 4,
     "metadata": {},
     "output_type": "execute_result"
    }
   ],
   "source": [
    "sample.columns"
   ]
  },
  {
   "cell_type": "code",
   "execution_count": 5,
   "id": "quarterly-argument",
   "metadata": {},
   "outputs": [],
   "source": [
    "# init the Google API translator\n",
    "translator = Translator()"
   ]
  },
  {
   "cell_type": "code",
   "execution_count": 6,
   "id": "informational-preservation",
   "metadata": {},
   "outputs": [],
   "source": [
    "# translate a spanish text to english text (by default)\n",
    "translation = translator.translate(\"山西\",src='zh-cn')"
   ]
  },
  {
   "cell_type": "code",
   "execution_count": 7,
   "id": "rapid-portrait",
   "metadata": {},
   "outputs": [
    {
     "name": "stdout",
     "output_type": "stream",
     "text": [
      "山西 (zh-cn) --> Shanxi (en)\n"
     ]
    }
   ],
   "source": [
    "print(\"{} ({}) --> {} ({})\".format(translation.origin, \n",
    "                                   translation.src,\n",
    "                                   translation.text,\n",
    "                                   translation.dest))"
   ]
  },
  {
   "cell_type": "markdown",
   "id": "raising-natural",
   "metadata": {},
   "source": [
    "# Bulk Translation"
   ]
  },
  {
   "cell_type": "code",
   "execution_count": 8,
   "id": "suited-conjunction",
   "metadata": {},
   "outputs": [],
   "source": [
    "en_address=[]\n",
    "for i in sample['酒店中文地址 Address in Chinese']:\n",
    "    translation = translator.translate(i, dest='en')\n",
    "    en_address.append(translation.text)"
   ]
  },
  {
   "cell_type": "code",
   "execution_count": 9,
   "id": "colored-parliament",
   "metadata": {},
   "outputs": [
    {
     "data": {
      "text/plain": [
       "5"
      ]
     },
     "execution_count": 9,
     "metadata": {},
     "output_type": "execute_result"
    }
   ],
   "source": [
    "len(en_address)"
   ]
  },
  {
   "cell_type": "code",
   "execution_count": 10,
   "id": "supreme-sculpture",
   "metadata": {},
   "outputs": [],
   "source": [
    "en_hotel_name=[]\n",
    "for j in sample['酒店中文名称 Property Name in Chinese']:\n",
    "    translation = translator.translate(j, dest='en')\n",
    "    en_hotel_name.append(translation.text)"
   ]
  },
  {
   "cell_type": "code",
   "execution_count": 11,
   "id": "helpful-cholesterol",
   "metadata": {},
   "outputs": [
    {
     "data": {
      "text/plain": [
       "5"
      ]
     },
     "execution_count": 11,
     "metadata": {},
     "output_type": "execute_result"
    }
   ],
   "source": [
    "len(en_address)"
   ]
  },
  {
   "cell_type": "code",
   "execution_count": 12,
   "id": "physical-traffic",
   "metadata": {},
   "outputs": [],
   "source": [
    "sample['en_hotel_name'] = en_hotel_name\n",
    "sample['en_address'] = en_address"
   ]
  },
  {
   "cell_type": "code",
   "execution_count": 13,
   "id": "sunrise-district",
   "metadata": {},
   "outputs": [
    {
     "data": {
      "text/html": [
       "<div>\n",
       "<style scoped>\n",
       "    .dataframe tbody tr th:only-of-type {\n",
       "        vertical-align: middle;\n",
       "    }\n",
       "\n",
       "    .dataframe tbody tr th {\n",
       "        vertical-align: top;\n",
       "    }\n",
       "\n",
       "    .dataframe thead th {\n",
       "        text-align: right;\n",
       "    }\n",
       "</style>\n",
       "<table border=\"1\" class=\"dataframe\">\n",
       "  <thead>\n",
       "    <tr style=\"text-align: right;\">\n",
       "      <th></th>\n",
       "      <th>酒店中文名称 Property Name in Chinese</th>\n",
       "      <th>酒店中文地址 Address in Chinese</th>\n",
       "      <th>Longitude</th>\n",
       "      <th>Latitude</th>\n",
       "      <th>en_hotel_name</th>\n",
       "      <th>en_address</th>\n",
       "    </tr>\n",
       "  </thead>\n",
       "  <tbody>\n",
       "    <tr>\n",
       "      <th>4</th>\n",
       "      <td>桔子西安钟鼓楼酒店</td>\n",
       "      <td>西安市碑林区南大街16号</td>\n",
       "      <td>34.25347</td>\n",
       "      <td>108.94665</td>\n",
       "      <td>Orange Xi'an Zhong Drum Tower</td>\n",
       "      <td>No. 16 South Street, Beilin District, Xi'an</td>\n",
       "    </tr>\n",
       "  </tbody>\n",
       "</table>\n",
       "</div>"
      ],
      "text/plain": [
       "  酒店中文名称 Property Name in Chinese 酒店中文地址 Address in Chinese  Longitude  \\\n",
       "4                       桔子西安钟鼓楼酒店              西安市碑林区南大街16号   34.25347   \n",
       "\n",
       "    Latitude                  en_hotel_name  \\\n",
       "4  108.94665  Orange Xi'an Zhong Drum Tower   \n",
       "\n",
       "                                    en_address  \n",
       "4  No. 16 South Street, Beilin District, Xi'an  "
      ]
     },
     "execution_count": 13,
     "metadata": {},
     "output_type": "execute_result"
    }
   ],
   "source": [
    "sample.tail(1)"
   ]
  },
  {
   "cell_type": "code",
   "execution_count": 14,
   "id": "closing-condition",
   "metadata": {},
   "outputs": [],
   "source": [
    "sample.to_csv('sample_translated.csv')"
   ]
  },
  {
   "cell_type": "markdown",
   "id": "wireless-season",
   "metadata": {},
   "source": [
    "# Reverse Geocode Zipcode"
   ]
  },
  {
   "cell_type": "code",
   "execution_count": 15,
   "id": "industrial-tracy",
   "metadata": {},
   "outputs": [],
   "source": [
    "from geopy.geocoders import Nominatim"
   ]
  },
  {
   "cell_type": "code",
   "execution_count": 16,
   "id": "funky-accent",
   "metadata": {},
   "outputs": [],
   "source": [
    "sample['lat_lng'] = sample[[\"Longitude\",\"Latitude\"]].apply(tuple, axis=1)"
   ]
  },
  {
   "cell_type": "code",
   "execution_count": 17,
   "id": "conceptual-truth",
   "metadata": {},
   "outputs": [
    {
     "data": {
      "text/html": [
       "<div>\n",
       "<style scoped>\n",
       "    .dataframe tbody tr th:only-of-type {\n",
       "        vertical-align: middle;\n",
       "    }\n",
       "\n",
       "    .dataframe tbody tr th {\n",
       "        vertical-align: top;\n",
       "    }\n",
       "\n",
       "    .dataframe thead th {\n",
       "        text-align: right;\n",
       "    }\n",
       "</style>\n",
       "<table border=\"1\" class=\"dataframe\">\n",
       "  <thead>\n",
       "    <tr style=\"text-align: right;\">\n",
       "      <th></th>\n",
       "      <th>酒店中文名称 Property Name in Chinese</th>\n",
       "      <th>酒店中文地址 Address in Chinese</th>\n",
       "      <th>Longitude</th>\n",
       "      <th>Latitude</th>\n",
       "      <th>en_hotel_name</th>\n",
       "      <th>en_address</th>\n",
       "      <th>lat_lng</th>\n",
       "    </tr>\n",
       "  </thead>\n",
       "  <tbody>\n",
       "    <tr>\n",
       "      <th>0</th>\n",
       "      <td>桔子水晶太原南站晋阳街酒店</td>\n",
       "      <td>山西省太原市小店区荣军北街99号</td>\n",
       "      <td>37.78401</td>\n",
       "      <td>112.57727</td>\n",
       "      <td>Orange Crystal Taiyuan South Railway Station J...</td>\n",
       "      <td>No. 99, Rongjun North Street, Xiaodian Distric...</td>\n",
       "      <td>(37.78401, 112.57727)</td>\n",
       "    </tr>\n",
       "  </tbody>\n",
       "</table>\n",
       "</div>"
      ],
      "text/plain": [
       "  酒店中文名称 Property Name in Chinese 酒店中文地址 Address in Chinese  Longitude  \\\n",
       "0                   桔子水晶太原南站晋阳街酒店          山西省太原市小店区荣军北街99号   37.78401   \n",
       "\n",
       "    Latitude                                      en_hotel_name  \\\n",
       "0  112.57727  Orange Crystal Taiyuan South Railway Station J...   \n",
       "\n",
       "                                          en_address                lat_lng  \n",
       "0  No. 99, Rongjun North Street, Xiaodian Distric...  (37.78401, 112.57727)  "
      ]
     },
     "execution_count": 17,
     "metadata": {},
     "output_type": "execute_result"
    }
   ],
   "source": [
    "sample.head(1)"
   ]
  },
  {
   "cell_type": "code",
   "execution_count": null,
   "id": "institutional-ozone",
   "metadata": {},
   "outputs": [],
   "source": []
  },
  {
   "cell_type": "code",
   "execution_count": 18,
   "id": "theoretical-division",
   "metadata": {},
   "outputs": [],
   "source": [
    "geolocator = Nominatim(user_agent=\"Chrome\")"
   ]
  },
  {
   "cell_type": "code",
   "execution_count": 19,
   "id": "continuous-inside",
   "metadata": {},
   "outputs": [],
   "source": [
    "zipcodes=[]\n",
    "addresses=[]\n",
    "input_list=[]\n",
    "for i in sample['lat_lng']:\n",
    "    time.sleep(1)\n",
    "    try:\n",
    "        location = geolocator.reverse(str(i[0])+\",\"+str(i[1]))\n",
    "        zipcodes.append(location.raw['address']['postcode'])\n",
    "        addresses.append(location.address)\n",
    "        input_list.append(i)\n",
    "    except:\n",
    "        input_list.append(i)\n",
    "        zipcodes.append('error')\n",
    "        addresses.append('error')"
   ]
  },
  {
   "cell_type": "code",
   "execution_count": 20,
   "id": "dying-africa",
   "metadata": {},
   "outputs": [],
   "source": [
    "sample['input_list'] = input_list\n",
    "sample['zipcodes'] = zipcodes\n",
    "sample['addresses'] = addresses"
   ]
  },
  {
   "cell_type": "code",
   "execution_count": 21,
   "id": "acquired-exception",
   "metadata": {},
   "outputs": [
    {
     "data": {
      "text/html": [
       "<div>\n",
       "<style scoped>\n",
       "    .dataframe tbody tr th:only-of-type {\n",
       "        vertical-align: middle;\n",
       "    }\n",
       "\n",
       "    .dataframe tbody tr th {\n",
       "        vertical-align: top;\n",
       "    }\n",
       "\n",
       "    .dataframe thead th {\n",
       "        text-align: right;\n",
       "    }\n",
       "</style>\n",
       "<table border=\"1\" class=\"dataframe\">\n",
       "  <thead>\n",
       "    <tr style=\"text-align: right;\">\n",
       "      <th></th>\n",
       "      <th>酒店中文名称 Property Name in Chinese</th>\n",
       "      <th>酒店中文地址 Address in Chinese</th>\n",
       "      <th>Longitude</th>\n",
       "      <th>Latitude</th>\n",
       "      <th>en_hotel_name</th>\n",
       "      <th>en_address</th>\n",
       "      <th>lat_lng</th>\n",
       "      <th>input_list</th>\n",
       "      <th>zipcodes</th>\n",
       "      <th>addresses</th>\n",
       "    </tr>\n",
       "  </thead>\n",
       "  <tbody>\n",
       "    <tr>\n",
       "      <th>0</th>\n",
       "      <td>桔子水晶太原南站晋阳街酒店</td>\n",
       "      <td>山西省太原市小店区荣军北街99号</td>\n",
       "      <td>37.78401</td>\n",
       "      <td>112.57727</td>\n",
       "      <td>Orange Crystal Taiyuan South Railway Station J...</td>\n",
       "      <td>No. 99, Rongjun North Street, Xiaodian Distric...</td>\n",
       "      <td>(37.78401, 112.57727)</td>\n",
       "      <td>(37.78401, 112.57727)</td>\n",
       "      <td>030012</td>\n",
       "      <td>黄陵街道, 小店区, 太原市, 山西省, 030012, 中国</td>\n",
       "    </tr>\n",
       "    <tr>\n",
       "      <th>1</th>\n",
       "      <td>桔子临汾五洲国际广场酒店</td>\n",
       "      <td>山西省临汾市开发区河汾路8号</td>\n",
       "      <td>36.10251</td>\n",
       "      <td>111.51095</td>\n",
       "      <td>Orange Linyi Wuzhou International Plaza Hotel</td>\n",
       "      <td>No. 8, Hedong Road, Linyi City, Linyi City, Sh...</td>\n",
       "      <td>(36.10251, 111.51095)</td>\n",
       "      <td>(36.10251, 111.51095)</td>\n",
       "      <td>041000</td>\n",
       "      <td>河汾路, 滨河街道, 尧都区, 临汾市, 山西省, 041000, 中国</td>\n",
       "    </tr>\n",
       "    <tr>\n",
       "      <th>2</th>\n",
       "      <td>桔子廊坊建设北路酒店</td>\n",
       "      <td>廊坊市广阳区建设北路77号</td>\n",
       "      <td>39.53777</td>\n",
       "      <td>116.71313</td>\n",
       "      <td>Orange Langfang Jianshe North Road Hotel</td>\n",
       "      <td>No. 77, Jianshe North Road, Guangyang District...</td>\n",
       "      <td>(39.53777, 116.71313)</td>\n",
       "      <td>(39.53777, 116.71313)</td>\n",
       "      <td>error</td>\n",
       "      <td>error</td>\n",
       "    </tr>\n",
       "    <tr>\n",
       "      <th>3</th>\n",
       "      <td>桔子上海淮海中路十号名邸酒店</td>\n",
       "      <td>上海市徐汇区 宝庆路10号7号楼</td>\n",
       "      <td>31.21082</td>\n",
       "      <td>121.44972</td>\n",
       "      <td>Orange Shanghai Huaihai Middle Road No. 10 Fam...</td>\n",
       "      <td>Building No. 10, Baofeng Road, Xuhui District,...</td>\n",
       "      <td>(31.21082, 121.44972)</td>\n",
       "      <td>(31.21082, 121.44972)</td>\n",
       "      <td>200032</td>\n",
       "      <td>10, 太原路, 小木桥, 徐汇区, 上海市, 200032, 中国</td>\n",
       "    </tr>\n",
       "    <tr>\n",
       "      <th>4</th>\n",
       "      <td>桔子西安钟鼓楼酒店</td>\n",
       "      <td>西安市碑林区南大街16号</td>\n",
       "      <td>34.25347</td>\n",
       "      <td>108.94665</td>\n",
       "      <td>Orange Xi'an Zhong Drum Tower</td>\n",
       "      <td>No. 16 South Street, Beilin District, Xi'an</td>\n",
       "      <td>(34.25347, 108.94665)</td>\n",
       "      <td>(34.25347, 108.94665)</td>\n",
       "      <td>710001</td>\n",
       "      <td>顺城南路, 柏树林, 碑林区, 西安市, 陕西省, 710001, 中国</td>\n",
       "    </tr>\n",
       "  </tbody>\n",
       "</table>\n",
       "</div>"
      ],
      "text/plain": [
       "  酒店中文名称 Property Name in Chinese 酒店中文地址 Address in Chinese  Longitude  \\\n",
       "0                   桔子水晶太原南站晋阳街酒店          山西省太原市小店区荣军北街99号   37.78401   \n",
       "1                    桔子临汾五洲国际广场酒店            山西省临汾市开发区河汾路8号   36.10251   \n",
       "2                      桔子廊坊建设北路酒店             廊坊市广阳区建设北路77号   39.53777   \n",
       "3                  桔子上海淮海中路十号名邸酒店          上海市徐汇区 宝庆路10号7号楼   31.21082   \n",
       "4                       桔子西安钟鼓楼酒店              西安市碑林区南大街16号   34.25347   \n",
       "\n",
       "    Latitude                                      en_hotel_name  \\\n",
       "0  112.57727  Orange Crystal Taiyuan South Railway Station J...   \n",
       "1  111.51095      Orange Linyi Wuzhou International Plaza Hotel   \n",
       "2  116.71313           Orange Langfang Jianshe North Road Hotel   \n",
       "3  121.44972  Orange Shanghai Huaihai Middle Road No. 10 Fam...   \n",
       "4  108.94665                      Orange Xi'an Zhong Drum Tower   \n",
       "\n",
       "                                          en_address                lat_lng  \\\n",
       "0  No. 99, Rongjun North Street, Xiaodian Distric...  (37.78401, 112.57727)   \n",
       "1  No. 8, Hedong Road, Linyi City, Linyi City, Sh...  (36.10251, 111.51095)   \n",
       "2  No. 77, Jianshe North Road, Guangyang District...  (39.53777, 116.71313)   \n",
       "3  Building No. 10, Baofeng Road, Xuhui District,...  (31.21082, 121.44972)   \n",
       "4        No. 16 South Street, Beilin District, Xi'an  (34.25347, 108.94665)   \n",
       "\n",
       "              input_list zipcodes                             addresses  \n",
       "0  (37.78401, 112.57727)   030012       黄陵街道, 小店区, 太原市, 山西省, 030012, 中国  \n",
       "1  (36.10251, 111.51095)   041000  河汾路, 滨河街道, 尧都区, 临汾市, 山西省, 041000, 中国  \n",
       "2  (39.53777, 116.71313)    error                                 error  \n",
       "3  (31.21082, 121.44972)   200032    10, 太原路, 小木桥, 徐汇区, 上海市, 200032, 中国  \n",
       "4  (34.25347, 108.94665)   710001  顺城南路, 柏树林, 碑林区, 西安市, 陕西省, 710001, 中国  "
      ]
     },
     "execution_count": 21,
     "metadata": {},
     "output_type": "execute_result"
    }
   ],
   "source": [
    "sample.tail(5)"
   ]
  },
  {
   "cell_type": "code",
   "execution_count": 23,
   "id": "confirmed-tobago",
   "metadata": {},
   "outputs": [],
   "source": [
    "sample.to_csv('sample_translated_and_zipcode.csv')"
   ]
  },
  {
   "cell_type": "code",
   "execution_count": null,
   "id": "insured-deadline",
   "metadata": {},
   "outputs": [],
   "source": []
  }
 ],
 "metadata": {
  "kernelspec": {
   "display_name": "Python 3",
   "language": "python",
   "name": "python3"
  },
  "language_info": {
   "codemirror_mode": {
    "name": "ipython",
    "version": 3
   },
   "file_extension": ".py",
   "mimetype": "text/x-python",
   "name": "python",
   "nbconvert_exporter": "python",
   "pygments_lexer": "ipython3",
   "version": "3.8.5"
  }
 },
 "nbformat": 4,
 "nbformat_minor": 5
}
